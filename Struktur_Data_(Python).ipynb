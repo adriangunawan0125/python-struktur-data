{
  "nbformat": 4,
  "nbformat_minor": 0,
  "metadata": {
    "colab": {
      "provenance": []
    },
    "kernelspec": {
      "name": "python3",
      "display_name": "Python 3"
    },
    "language_info": {
      "name": "python"
    }
  },
  "cells": [
    {
      "cell_type": "code",
      "source": [
        "# Mmembuat segitiga dengan bintang\n",
        "tinggi = int(input(\"Masukkan tinggi segitiga: \"))\n",
        "\n",
        "print(\"\")\n",
        "\n",
        "for i in range(tinggi,0,-1):\n",
        "   print(\"*\" * i)"
      ],
      "metadata": {
        "id": "NZsG3QnhZZWh",
        "colab": {
          "base_uri": "https://localhost:8080/"
        },
        "outputId": "11ed065e-d7cb-4b09-d846-9a2536924a4c"
      },
      "execution_count": null,
      "outputs": [
        {
          "output_type": "stream",
          "name": "stdout",
          "text": [
            "Masukkan tinggi segitiga: 5\n",
            "\n",
            "*****\n",
            "****\n",
            "***\n",
            "**\n",
            "*\n"
          ]
        }
      ]
    },
    {
      "cell_type": "code",
      "source": [
        "# Membuat segitiga dengan angka\n",
        "tinggi = int(input(\"Masukkan tinggi segitiga: \"))\n",
        "\n",
        "angka = 1\n",
        "\n",
        "for i in range(1, tinggi + 1):\n",
        "    for j in range(i):\n",
        "        print(angka, end=' ')\n",
        "        angka += 1\n",
        "    print()\n"
      ],
      "metadata": {
        "colab": {
          "base_uri": "https://localhost:8080/"
        },
        "id": "xbElj-OVYk0f",
        "outputId": "1e046f6b-5774-4a26-92fa-99254e40eb9f"
      },
      "execution_count": 20,
      "outputs": [
        {
          "output_type": "stream",
          "name": "stdout",
          "text": [
            "Masukkan tinggi segitiga: 4\n",
            "1 \n",
            "2 3 \n",
            "4 5 6 \n",
            "7 8 9 10 \n"
          ]
        }
      ]
    },
    {
      "cell_type": "code",
      "source": [
        "# algoritma searching\n",
        "a = [1, 6, 8, 9, 10]\n",
        "target = 9\n",
        "\n",
        "for i in range(len(a)):\n",
        "    if a[i] == target:\n",
        "        print(f\"Nilai {target} ditemukan pada indeks {i}.\")\n",
        "        break\n",
        "\n",
        "else:\n",
        "    print(f\"Nilai {target} tidak ditemukan dalam array.\")\n"
      ],
      "metadata": {
        "colab": {
          "base_uri": "https://localhost:8080/"
        },
        "id": "xmxYN12J44mL",
        "outputId": "5954194c-3555-42da-812d-b6a3f62cc0e7"
      },
      "execution_count": 1,
      "outputs": [
        {
          "output_type": "stream",
          "name": "stdout",
          "text": [
            "Nilai 9 ditemukan pada indeks 3.\n"
          ]
        }
      ]
    },
    {
      "cell_type": "code",
      "execution_count": 2,
      "metadata": {
        "colab": {
          "base_uri": "https://localhost:8080/"
        },
        "id": "G08r_Ik0jdEl",
        "outputId": "e3eead53-3c86-4617-8e07-99966ecb053c"
      },
      "outputs": [
        {
          "output_type": "stream",
          "name": "stdout",
          "text": [
            "sebelum dilakuakan pengurutan\n",
            "[7 6 8 1 3]\n",
            "proses pengurutan\n",
            "[6 7 8 1 3]\n",
            "[6 7 1 8 3]\n",
            "[6 7 1 3 8]\n",
            "[6 1 7 3 8]\n",
            "[6 1 3 7 8]\n",
            "[1 6 3 7 8]\n",
            "[1 3 6 7 8]\n",
            "-------------------------------------------------\n",
            "setelah dilakukan pengurutan [1 3 6 7 8]\n"
          ]
        }
      ],
      "source": [
        "#algoritma sorting\n",
        "import numpy as np\n",
        "a=np.array([7,6,8,1,3])\n",
        "c=0\n",
        "\n",
        "panjang=len(a)\n",
        "print(\"sebelum dilakuakan pengurutan\")\n",
        "print(a)\n",
        "print(\"proses pengurutan\")\n",
        "for i in range(panjang-1):\n",
        "  for j in range(panjang-1):\n",
        "    if(a[j]>a[j+1]):\n",
        "      c=a[j+1]\n",
        "      a[j+1]=a[j]\n",
        "      a[j]=c\n",
        "      print(a)\n",
        "\n",
        "print(\"-------------------------------------------------\")\n",
        "print(\"setelah dilakukan pengurutan\", a)\n"
      ]
    },
    {
      "cell_type": "code",
      "source": [
        "#cara membuat list\n",
        "from collections import deque\n",
        "a = deque([\"pakaian\", 10 , 1000])\n",
        "print(\"list awal = \", a)\n",
        "\n",
        "a.append(\"celana\")\n",
        "a.append(90)\n",
        "a.append(1500)\n",
        "print(\"setelah ditambah, list = \", a)\n",
        "\n",
        "a.popleft()\n",
        "print(\"setelah di pop, list = \", a)"
      ],
      "metadata": {
        "colab": {
          "base_uri": "https://localhost:8080/"
        },
        "id": "PuA9N_k008YD",
        "outputId": "04a900cb-09df-402b-cef6-bd1886955db2"
      },
      "execution_count": null,
      "outputs": [
        {
          "output_type": "stream",
          "name": "stdout",
          "text": [
            "list awal =  deque(['pakaian', 10, 1000])\n",
            "setelah ditambah, list =  deque(['pakaian', 10, 1000, 'celana', 90, 1500])\n",
            "setelah di pop, list =  deque([10, 1000, 'celana', 90, 1500])\n"
          ]
        }
      ]
    },
    {
      "cell_type": "code",
      "source": [
        "#algoritma stack\n",
        "a = ([\"pisang\",5,5000,\"apel\",10,1000,\"alpukat\",5,1000])\n",
        "print(\"daftar : \",a)\n",
        "\n",
        "a.append(10)\n",
        "print(a)\n",
        "\n",
        "a.append(\"buah naga\")\n",
        "print(a)\n",
        "\n",
        "a.pop()\n",
        "print(a)"
      ],
      "metadata": {
        "colab": {
          "base_uri": "https://localhost:8080/"
        },
        "id": "8ltswKJnnNPA",
        "outputId": "93dbea65-2e0b-4a8d-ab12-2ec199023cf3"
      },
      "execution_count": null,
      "outputs": [
        {
          "output_type": "stream",
          "name": "stdout",
          "text": [
            "daftar :  ['pisang', 5, 5000, 'apel', 10, 1000, 'alpukat', 5, 1000]\n",
            "['pisang', 5, 5000, 'apel', 10, 1000, 'alpukat', 5, 1000, 10]\n",
            "['pisang', 5, 5000, 'apel', 10, 1000, 'alpukat', 5, 1000, 10, 'buah naga']\n",
            "['pisang', 5, 5000, 'apel', 10, 1000, 'alpukat', 5, 1000, 10]\n"
          ]
        }
      ]
    },
    {
      "cell_type": "code",
      "source": [
        "#algoritma stack quee/antrian\n",
        "from collections import deque\n",
        "a= deque([\"pisang\", 3000, \"durian\", 10000, \"rambutan\", 500])\n",
        "print(\"daftar : \", a)\n",
        "\n",
        "a.append(\"jagung\")\n",
        "print (a)\n",
        "\n",
        "a.append(\"mangga\")\n",
        "print(a)\n",
        "\n",
        "a.popleft()\n",
        "print(a)\n"
      ],
      "metadata": {
        "colab": {
          "base_uri": "https://localhost:8080/"
        },
        "id": "L2WQwJKrrNCw",
        "outputId": "4f6365c9-ae7a-4e6a-95eb-f8d3ca8e3670"
      },
      "execution_count": null,
      "outputs": [
        {
          "output_type": "stream",
          "name": "stdout",
          "text": [
            "daftar :  deque(['pisang', 3000, 'durian', 10000, 'rambutan', 500])\n",
            "deque(['pisang', 3000, 'durian', 10000, 'rambutan', 500, 'jagung'])\n",
            "deque(['pisang', 3000, 'durian', 10000, 'rambutan', 500, 'jagung', 'mangga'])\n",
            "deque([3000, 'durian', 10000, 'rambutan', 500, 'jagung', 'mangga'])\n"
          ]
        }
      ]
    },
    {
      "cell_type": "code",
      "source": [
        "#algoritma stack dengan style OOP\n",
        "class Pakaian :\n",
        "  def __init__(self):\n",
        "    self.items = []\n",
        "\n",
        "  def add(self, item):\n",
        "    self.items.append(item)\n",
        "\n",
        "  def pop(self):\n",
        "    if self.items:\n",
        "      return self.items.pop()\n",
        "      return None\n",
        "\n",
        "  def show(self):\n",
        "    print(self.items)\n",
        "\n",
        "a = Pakaian()\n",
        "\n",
        "print(\"==========================isi awal list=========================\")\n",
        "a.add(\"kemeja\")\n",
        "a.add(\"celana\")\n",
        "a.add(\"sepatu\")\n",
        "a.show()\n",
        "print(\"========================setelah ditambah========================\")\n",
        "\n",
        "\n",
        "\n",
        "a.add(\"kaos\")\n",
        "a.add(\"sabuk\")\n",
        "a.add(\"sandal\")\n",
        "a.show()\n",
        "\n",
        "a.pop()\n",
        "print(\"======================setelah di hapus/pop======================\")\n",
        "a.show()\n",
        "\n"
      ],
      "metadata": {
        "colab": {
          "base_uri": "https://localhost:8080/"
        },
        "id": "jEu6rWM-mja6",
        "outputId": "a8941c76-82ac-402e-b39a-523da96c436c"
      },
      "execution_count": 19,
      "outputs": [
        {
          "output_type": "stream",
          "name": "stdout",
          "text": [
            "==========================isi awal list=========================\n",
            "['kemeja', 'celana', 'sepatu']\n",
            "========================setelah ditambah========================\n",
            "['kemeja', 'celana', 'sepatu', 'kaos', 'sabuk', 'sandal']\n",
            "======================setelah di hapus/pop======================\n",
            "['kemeja', 'celana', 'sepatu', 'kaos', 'sabuk']\n"
          ]
        }
      ]
    },
    {
      "cell_type": "code",
      "source": [
        "#algoritma stack quee dengan style oop\n",
        "from collections import deque\n",
        "\n",
        "class Mahasiswa:\n",
        "  def __init__(self):\n",
        "    self.data = deque()\n",
        "\n",
        "  def tambah(self, nama, jurusan):\n",
        "    self.data.append((nama, jurusan))\n",
        "\n",
        "  def show(self):\n",
        "    if not self.data:\n",
        "      print(\"data kosong.\")\n",
        "    else:\n",
        "      print(\"data saat ini :\")\n",
        "    for nama, jurusan in self.data:\n",
        "      print(f\"nama: {nama}, Jurusan: {jurusan}\")\n",
        "\n",
        "  def hapus(self):\n",
        "    if self.data:\n",
        "      nama = self.data.popleft()\n",
        "      print(f\"mahasiswa: {nama} telah dihapus\")\n",
        "    else:\n",
        "        print(\"data kosong.\")\n",
        "\n",
        "data = Mahasiswa()\n",
        "\n",
        "data.tambah(\"Ian\", \"informatika\")\n",
        "data.tambah(\"dita\", \"informatika\")\n",
        "data.tambah(\"leni\", \"informatika\")\n",
        "\n",
        "print(\"==========data awal==========\")\n",
        "data.show()\n",
        "\n",
        "\n",
        "data.tambah(\"Nika\",\"informatika\")\n",
        "print(\"==========setelah ditambah==========\")\n",
        "data.show()\n",
        "\n",
        "data.hapus()\n",
        "print(\"==========setelah dihapus==========\")\n",
        "data.show()"
      ],
      "metadata": {
        "colab": {
          "base_uri": "https://localhost:8080/"
        },
        "id": "AvTxAmGK33J8",
        "outputId": "b941de54-2737-46bc-dc23-0d18104fbc1e"
      },
      "execution_count": null,
      "outputs": [
        {
          "output_type": "stream",
          "name": "stdout",
          "text": [
            "==========data awal==========\n",
            "data saat ini :\n",
            "nama: Ian, Jurusan: informatika\n",
            "nama: dita, Jurusan: informatika\n",
            "nama: leni, Jurusan: informatika\n",
            "==========setelah ditambah==========\n",
            "data saat ini :\n",
            "nama: Ian, Jurusan: informatika\n",
            "nama: dita, Jurusan: informatika\n",
            "nama: leni, Jurusan: informatika\n",
            "nama: Nika, Jurusan: informatika\n",
            "mahasiswa: ('Ian', 'informatika') telah dihapus\n",
            "==========setelah dihapus==========\n",
            "data saat ini :\n",
            "nama: dita, Jurusan: informatika\n",
            "nama: leni, Jurusan: informatika\n",
            "nama: Nika, Jurusan: informatika\n"
          ]
        }
      ]
    },
    {
      "cell_type": "code",
      "source": [
        "#membuat Binary Tree\n",
        "\n",
        "\n",
        "# Fungsi untuk membuat node baru\n",
        "def create_node(data):\n",
        "    return {\"data\": data, \"left\": None, \"right\": None}\n",
        "\n",
        "# Fungsi untuk menambahkan node ke Binary Tree\n",
        "def insert(root, data):\n",
        "    if root is None:\n",
        "        return create_node(data)\n",
        "    if data < root[\"data\"]:\n",
        "        root[\"left\"] = insert(root[\"left\"], data)\n",
        "    else:\n",
        "        root[\"right\"] = insert(root[\"right\"], data)\n",
        "    return root\n",
        "\n",
        "# Fungsi untuk Preorder Traversal (Root, Left, Right)\n",
        "def preorder_traversal(root):\n",
        "    if root is not None:\n",
        "        print(root[\"data\"], end=\" \")\n",
        "        preorder_traversal(root[\"left\"])\n",
        "        preorder_traversal(root[\"right\"])\n",
        "\n",
        "# Fungsi untuk Inorder Traversal (Left, Root, Right)\n",
        "def inorder_traversal(root):\n",
        "    if root is not None:\n",
        "        inorder_traversal(root[\"left\"])\n",
        "        print(root[\"data\"], end=\" \")\n",
        "        inorder_traversal(root[\"right\"])\n",
        "\n",
        "# Fungsi untuk Postorder Traversal (Left, Right, Root)\n",
        "def postorder_traversal(root):\n",
        "    if root is not None:\n",
        "        postorder_traversal(root[\"left\"])\n",
        "        postorder_traversal(root[\"right\"])\n",
        "        print(root[\"data\"], end=\" \")\n",
        "\n",
        "# Fungsi Levelorder Traversal (up to down from root)\n",
        "from collections import deque\n",
        "def levelorder_traversal(root):\n",
        "    if root is None:\n",
        "        return\n",
        "\n",
        "    queue = deque([root])\n",
        "    while queue:\n",
        "        current = queue.popleft()\n",
        "        print(current[\"data\"], end=\" \")\n",
        "\n",
        "        if current[\"left\"]:\n",
        "            queue.append(current[\"left\"])\n",
        "        if current[\"right\"]:\n",
        "            queue.append(current[\"right\"])\n",
        "\n",
        "\n",
        "\n",
        "# Membuat tree dan menambahkan elemen\n",
        "root = None\n",
        "root = insert(root, 10)\n",
        "root = insert(root, 5)\n",
        "root = insert(root, 15)\n",
        "root = insert(root, 2)\n",
        "root = insert(root, 7)\n",
        "\n",
        "# Traversal\n",
        "print(\"Preorder Traversal:\")\n",
        "preorder_traversal(root)\n",
        "\n",
        "print(\"\\nInorder Traversal:\")\n",
        "inorder_traversal(root)\n",
        "\n",
        "print(\"\\nPostorder Traversal:\")\n",
        "postorder_traversal(root)\n",
        "\n",
        "print(\"\\nLevelorder Traversal:\")\n",
        "levelorder_traversal(root)\n"
      ],
      "metadata": {
        "id": "oN1ZDFis1bau",
        "colab": {
          "base_uri": "https://localhost:8080/"
        },
        "outputId": "c35e7f55-de4a-4634-b5b9-876f0f387198"
      },
      "execution_count": 22,
      "outputs": [
        {
          "output_type": "stream",
          "name": "stdout",
          "text": [
            "Preorder Traversal:\n",
            "10 5 2 7 15 \n",
            "Inorder Traversal:\n",
            "2 5 7 10 15 \n",
            "Postorder Traversal:\n",
            "2 7 5 15 10 \n",
            "Levelorder Traversal:\n",
            "10 5 15 2 7 "
          ]
        }
      ]
    }
  ]
}